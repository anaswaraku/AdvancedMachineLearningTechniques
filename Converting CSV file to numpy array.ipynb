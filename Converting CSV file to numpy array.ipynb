{
 "cells": [
  {
   "cell_type": "code",
   "execution_count": 8,
   "id": "50fd069f",
   "metadata": {},
   "outputs": [
    {
     "name": "stdout",
     "output_type": "stream",
     "text": [
      "Read CSV using loadtxt()\n"
     ]
    },
    {
     "data": {
      "text/plain": [
       "array([['User ID', 'Gender', 'Age', 'EstimatedSalary', 'Purchased'],\n",
       "       ['15624510', 'Male', '19', '19000', '0'],\n",
       "       ['15810944', 'Male', '35', '20000', '0'],\n",
       "       ...,\n",
       "       ['15654296', 'Female', '50', '20000', '1'],\n",
       "       ['15755018', 'Male', '36', '33000', '0'],\n",
       "       ['15594041', 'Female', '49', '36000', '1']], dtype='<U15')"
      ]
     },
     "metadata": {},
     "output_type": "display_data"
    },
    {
     "name": "stdout",
     "output_type": "stream",
     "text": [
      "Read CSV using genfromtxt\n"
     ]
    },
    {
     "data": {
      "text/plain": [
       "array([['User ID', 'Gender', 'Age', 'EstimatedSalary', 'Purchased'],\n",
       "       ['15624510', 'Male', '19', '19000', '0'],\n",
       "       ['15810944', 'Male', '35', '20000', '0'],\n",
       "       ...,\n",
       "       ['15654296', 'Female', '50', '20000', '1'],\n",
       "       ['15755018', 'Male', '36', '33000', '0'],\n",
       "       ['15594041', 'Female', '49', '36000', '1']], dtype='<U15')"
      ]
     },
     "metadata": {},
     "output_type": "display_data"
    },
    {
     "name": "stdout",
     "output_type": "stream",
     "text": [
      "Read CSV using read_csv()\n",
      "[[15624510 'Male' 19 19000 0]\n",
      " [15810944 'Male' 35 20000 0]\n",
      " [15668575 'Female' 26 43000 0]\n",
      " ...\n",
      " [15654296 'Female' 50 20000 1]\n",
      " [15755018 'Male' 36 33000 0]\n",
      " [15594041 'Female' 49 36000 1]]\n"
     ]
    }
   ],
   "source": [
    "\n",
    "import numpy as np\n",
    "from pandas import read_csv\n",
    "\n",
    "# using loadtxt()\n",
    "print(\"Read CSV using loadtxt()\")\n",
    "arr = np.loadtxt(\"Social_Network_Ads.csv\",delimiter=\",\", dtype=str)\n",
    "display(arr)\n",
    "\n",
    "# using genfromtxt()\n",
    "print(\"Read CSV using genfromtxt\")\n",
    "arr = np.genfromtxt(\"Social_Network_Ads.csv\",delimiter=\",\", dtype=str)\n",
    "display(arr)\n",
    "\n",
    "\n",
    "print(\"Read CSV using read_csv()\")\n",
    "d = read_csv('Social_Network_Ads.csv') \n",
    "df = d.values\n",
    "print(df)"
   ]
  },
  {
   "cell_type": "code",
   "execution_count": null,
   "id": "4f382844",
   "metadata": {},
   "outputs": [],
   "source": []
  }
 ],
 "metadata": {
  "kernelspec": {
   "display_name": "Python 3",
   "language": "python",
   "name": "python3"
  },
  "language_info": {
   "codemirror_mode": {
    "name": "ipython",
    "version": 3
   },
   "file_extension": ".py",
   "mimetype": "text/x-python",
   "name": "python",
   "nbconvert_exporter": "python",
   "pygments_lexer": "ipython3",
   "version": "3.6.9"
  }
 },
 "nbformat": 4,
 "nbformat_minor": 5
}
